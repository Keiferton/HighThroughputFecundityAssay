{
  "cells": [
    {
      "cell_type": "markdown",
      "metadata": {
        "id": "view-in-github",
        "colab_type": "text"
      },
      "source": [
        "<a href=\"https://colab.research.google.com/github/okeashwini/fly_egg_counting/blob/main/egg_counting_with_flyModel2.ipynb\" target=\"_parent\"><img src=\"https://colab.research.google.com/assets/colab-badge.svg\" alt=\"Open In Colab\"/></a>"
      ]
    },
    {
      "cell_type": "markdown",
      "metadata": {
        "id": "GItfuVh8wBaK"
      },
      "source": [
        "# Pipeline to segment and count fly eggs in images captured by RoboCam using Stardist.\n",
        "\n",
        "https://pypi.org/project/stardist/"
      ]
    },
    {
      "cell_type": "markdown",
      "metadata": {
        "id": "UgZraNuwkJVx"
      },
      "source": [
        "# File handling and inputs"
      ]
    },
    {
      "cell_type": "code",
      "execution_count": 1,
      "metadata": {
        "colab": {
          "base_uri": "https://localhost:8080/"
        },
        "id": "Lzc7lDeGzb7-",
        "outputId": "2e29bd82-2303-462c-ca4e-433606381673"
      },
      "outputs": [
        {
          "output_type": "stream",
          "name": "stdout",
          "text": [
            "Mounted at /content/drive\n"
          ]
        }
      ],
      "source": [
        "# mount google drive\n",
        "from google.colab import drive\n",
        "drive.mount('/content/drive')"
      ]
    },
    {
      "cell_type": "code",
      "execution_count": 4,
      "metadata": {
        "colab": {
          "base_uri": "https://localhost:8080/"
        },
        "id": "ZvOaJuXIzoyI",
        "outputId": "d8f7b27a-8599-4899-96c9-97b9a51f886e"
      },
      "outputs": [
        {
          "output_type": "stream",
          "name": "stdout",
          "text": [
            "63\n"
          ]
        }
      ],
      "source": [
        "import os\n",
        "import glob\n",
        "from pathlib import Path\n",
        "from natsort import natsorted\n",
        "\n",
        "#@title Enter full path to the folder with images\n",
        "mainPath = \"/content/drive/MyDrive/fly_egg_counting_Stardist\" # @param {type:\"string\"}\n",
        "\n",
        "\n",
        "# Provide path to where the mnodel is saved\n",
        "modelPath = \"/content/drive/MyDrive/Models\" # @param {type:\"string\"}\n",
        "\n",
        "\n",
        "ExperimentName = \"Chem3_Day7_Rep7_Plate2\" #@param {type:\"string\"}\n",
        "pathToFolder = f'{mainPath}/images/{ExperimentName}/'\n",
        "outPath = f'{mainPath}/predictions_flyModel2/{ExperimentName}/'\n",
        "estimatedWellDiameter = 2200 #@param {type:\"integer\"}\n",
        "\n",
        "# create the output folder\n",
        "if not os.path.exists(outPath):\n",
        "  os.makedirs(outPath)\n",
        "\n",
        "filenames = natsorted(glob.glob(f'{pathToFolder}*.jpg'))\n",
        "print(len(filenames))\n",
        "\n"
      ]
    },
    {
      "cell_type": "markdown",
      "metadata": {
        "id": "kDn_lVxg3Z2G"
      },
      "source": [
        "# Install Stardist, import necessary libraries and define functions\n",
        "\n"
      ]
    },
    {
      "cell_type": "code",
      "execution_count": 5,
      "metadata": {
        "colab": {
          "base_uri": "https://localhost:8080/"
        },
        "id": "rwN0VwgvG_ls",
        "outputId": "492929e2-1abc-4fa3-a5f1-572e2664a197"
      },
      "outputs": [
        {
          "output_type": "stream",
          "name": "stdout",
          "text": [
            "Collecting stardist\n",
            "  Downloading stardist-0.8.5-cp310-cp310-manylinux_2_17_x86_64.manylinux2014_x86_64.whl (3.0 MB)\n",
            "\u001b[2K     \u001b[90m━━━━━━━━━━━━━━━━━━━━━━━━━━━━━━━━━━━━━━━━\u001b[0m \u001b[32m3.0/3.0 MB\u001b[0m \u001b[31m35.1 MB/s\u001b[0m eta \u001b[36m0:00:00\u001b[0m\n",
            "\u001b[?25hCollecting csbdeep>=0.7.4 (from stardist)\n",
            "  Downloading csbdeep-0.7.4-py2.py3-none-any.whl (69 kB)\n",
            "\u001b[2K     \u001b[90m━━━━━━━━━━━━━━━━━━━━━━━━━━━━━━━━━━━━━━━━\u001b[0m \u001b[32m69.8/69.8 kB\u001b[0m \u001b[31m10.3 MB/s\u001b[0m eta \u001b[36m0:00:00\u001b[0m\n",
            "\u001b[?25hRequirement already satisfied: scikit-image in /usr/local/lib/python3.10/dist-packages (from stardist) (0.19.3)\n",
            "Requirement already satisfied: numba in /usr/local/lib/python3.10/dist-packages (from stardist) (0.58.1)\n",
            "Requirement already satisfied: imageio in /usr/local/lib/python3.10/dist-packages (from stardist) (2.31.6)\n",
            "Requirement already satisfied: numpy in /usr/local/lib/python3.10/dist-packages (from csbdeep>=0.7.4->stardist) (1.25.2)\n",
            "Requirement already satisfied: scipy in /usr/local/lib/python3.10/dist-packages (from csbdeep>=0.7.4->stardist) (1.11.4)\n",
            "Requirement already satisfied: matplotlib in /usr/local/lib/python3.10/dist-packages (from csbdeep>=0.7.4->stardist) (3.7.1)\n",
            "Requirement already satisfied: six in /usr/local/lib/python3.10/dist-packages (from csbdeep>=0.7.4->stardist) (1.16.0)\n",
            "Requirement already satisfied: tifffile in /usr/local/lib/python3.10/dist-packages (from csbdeep>=0.7.4->stardist) (2024.2.12)\n",
            "Requirement already satisfied: tqdm in /usr/local/lib/python3.10/dist-packages (from csbdeep>=0.7.4->stardist) (4.66.2)\n",
            "Requirement already satisfied: packaging in /usr/local/lib/python3.10/dist-packages (from csbdeep>=0.7.4->stardist) (23.2)\n",
            "Requirement already satisfied: pillow<10.1.0,>=8.3.2 in /usr/local/lib/python3.10/dist-packages (from imageio->stardist) (9.4.0)\n",
            "Requirement already satisfied: llvmlite<0.42,>=0.41.0dev0 in /usr/local/lib/python3.10/dist-packages (from numba->stardist) (0.41.1)\n",
            "Requirement already satisfied: networkx>=2.2 in /usr/local/lib/python3.10/dist-packages (from scikit-image->stardist) (3.2.1)\n",
            "Requirement already satisfied: PyWavelets>=1.1.1 in /usr/local/lib/python3.10/dist-packages (from scikit-image->stardist) (1.5.0)\n",
            "Requirement already satisfied: contourpy>=1.0.1 in /usr/local/lib/python3.10/dist-packages (from matplotlib->csbdeep>=0.7.4->stardist) (1.2.0)\n",
            "Requirement already satisfied: cycler>=0.10 in /usr/local/lib/python3.10/dist-packages (from matplotlib->csbdeep>=0.7.4->stardist) (0.12.1)\n",
            "Requirement already satisfied: fonttools>=4.22.0 in /usr/local/lib/python3.10/dist-packages (from matplotlib->csbdeep>=0.7.4->stardist) (4.49.0)\n",
            "Requirement already satisfied: kiwisolver>=1.0.1 in /usr/local/lib/python3.10/dist-packages (from matplotlib->csbdeep>=0.7.4->stardist) (1.4.5)\n",
            "Requirement already satisfied: pyparsing>=2.3.1 in /usr/local/lib/python3.10/dist-packages (from matplotlib->csbdeep>=0.7.4->stardist) (3.1.2)\n",
            "Requirement already satisfied: python-dateutil>=2.7 in /usr/local/lib/python3.10/dist-packages (from matplotlib->csbdeep>=0.7.4->stardist) (2.8.2)\n",
            "Installing collected packages: csbdeep, stardist\n",
            "Successfully installed csbdeep-0.7.4 stardist-0.8.5\n",
            "Requirement already satisfied: scikit-image in /usr/local/lib/python3.10/dist-packages (0.19.3)\n",
            "Requirement already satisfied: numpy>=1.17.0 in /usr/local/lib/python3.10/dist-packages (from scikit-image) (1.25.2)\n",
            "Requirement already satisfied: scipy>=1.4.1 in /usr/local/lib/python3.10/dist-packages (from scikit-image) (1.11.4)\n",
            "Requirement already satisfied: networkx>=2.2 in /usr/local/lib/python3.10/dist-packages (from scikit-image) (3.2.1)\n",
            "Requirement already satisfied: pillow!=7.1.0,!=7.1.1,!=8.3.0,>=6.1.0 in /usr/local/lib/python3.10/dist-packages (from scikit-image) (9.4.0)\n",
            "Requirement already satisfied: imageio>=2.4.1 in /usr/local/lib/python3.10/dist-packages (from scikit-image) (2.31.6)\n",
            "Requirement already satisfied: tifffile>=2019.7.26 in /usr/local/lib/python3.10/dist-packages (from scikit-image) (2024.2.12)\n",
            "Requirement already satisfied: PyWavelets>=1.1.1 in /usr/local/lib/python3.10/dist-packages (from scikit-image) (1.5.0)\n",
            "Requirement already satisfied: packaging>=20.0 in /usr/local/lib/python3.10/dist-packages (from scikit-image) (23.2)\n"
          ]
        }
      ],
      "source": [
        "# install stardist\n",
        "!pip install stardist\n",
        "\n",
        "# install skimage\n",
        "!pip install scikit-image"
      ]
    },
    {
      "cell_type": "code",
      "execution_count": 6,
      "metadata": {
        "id": "iAvqRJ2H2wpS"
      },
      "outputs": [],
      "source": [
        "\n",
        "# load the model:\n",
        "from stardist.models import StarDist2D\n",
        "\n",
        "# import necessary libraries\n",
        "from stardist.data import test_image_nuclei_2d\n",
        "from stardist import export_imagej_rois, random_label_cmap, _draw_polygons\n",
        "lbl_cmap = random_label_cmap()\n",
        "from stardist.plot import render_label\n",
        "\n",
        "from csbdeep.utils import normalize\n",
        "import matplotlib.pyplot as plt\n",
        "from skimage import io\n",
        "import cv2\n",
        "import numpy as np\n",
        "np.random.seed(6)\n",
        "import pandas as pd\n",
        "from csbdeep.utils.tf import keras_import\n",
        "%matplotlib inline\n",
        "%config InLineBackend.figure_format = 'retina'\n",
        "\n",
        "from skimage import data, color\n",
        "from skimage.transform import hough_circle, hough_circle_peaks\n",
        "from skimage.feature import canny\n",
        "from skimage.draw import circle_perimeter\n",
        "from skimage.util import img_as_ubyte\n",
        "from skimage.measure import regionprops_table\n",
        "import math\n",
        "\n",
        "from PIL import Image, ImageDraw\n",
        "keras = keras_import()\n",
        "\n"
      ]
    },
    {
      "cell_type": "code",
      "execution_count": 7,
      "metadata": {
        "id": "GQ18Kd5F3uKe"
      },
      "outputs": [],
      "source": [
        "\n",
        "\n",
        "## read image and preprocess\n",
        "def preprocess_image(filename):\n",
        "  rawImage = io.imread(filename, as_gray=True)\n",
        "  img8bit = cv2.normalize(rawImage, None, 0, 255, cv2.NORM_MINMAX, dtype = cv2.CV_8U)\n",
        "  invImg = ~img8bit\n",
        "  return (invImg)\n",
        "\n",
        "def empty_image(invImg):\n",
        "  if np.min(invertedImage) == np.max(invertedImage):\n",
        "    return(True)\n",
        "  else:\n",
        "    return(False)\n",
        "\n",
        "## generate well mask\n",
        "def make_well_mask(filename, estRadius):\n",
        "  # prepreocess image to crop\n",
        "  #rawImage = io.imread(filename, as_gray=True)\n",
        "  #img8bit = cv2.normalize(rawImage, None, 0, 255, cv2.NORM_MINMAX, dtype = cv2.CV_8U)\n",
        "  #invImg = ~img8bit\n",
        "\n",
        "  wellImg = cv2.imread(filename, 0)\n",
        "  wellImg = cv2.convertScaleAbs(wellImg, alpha=1.5, beta=0)\n",
        "  edges = canny(wellImg, sigma=1, low_threshold=10, high_threshold=20)\n",
        "\n",
        "  # detect radii\n",
        "  hough_radii = np.arange(estRadius-40, estRadius+40,20)\n",
        "  hough_res = hough_circle(edges, hough_radii)\n",
        "\n",
        "  # select the most prominent circle\n",
        "  accums, cx,cy, radii = hough_circle_peaks(hough_res, hough_radii, total_num_peaks=1)\n",
        "  h,w= wellImg.shape\n",
        "  ## Create same size alpha layer with circle\n",
        "  alpha = Image.new('L', (w,h),0)\n",
        "  draw = ImageDraw.Draw(alpha)\n",
        "  # make the circle smaller to exclude the bright edges\n",
        "  #radii = radii-40\n",
        "  draw.pieslice([cx-radii,cy-radii,cx+radii,cy+radii],0,360,fill=255)\n",
        "\n",
        "  #Convert alpha Image to numpy array\n",
        "  wellMask=np.array(alpha)\n",
        "\n",
        "  return(wellMask, int(cx),int(cy), int(radii))\n",
        "\n",
        "\n",
        "## run segmentation model and filter eggs by size\n",
        "def run_segmentation(cropped, probThreshold, cx, cy, radius):\n",
        "  labels, details = model.predict_instances(normalize(cropped), prob_thresh=probThreshold)\n",
        "  allObjects = regionprops_table(labels, invertedImage, properties = ['label', 'area', 'centroid','bbox','euler_number','eccentricity','solidity', 'mean_intensity','min_intensity','max_intensity'] )\n",
        "  eggs = pd.DataFrame(allObjects)\n",
        "  # calculate position from center\n",
        "  eggs['position'] = eggs.apply(lambda x: math.dist([x['centroid-0'],x['centroid-1']], [cy,cx]), axis=1)\n",
        "  # filter by intensity\n",
        "  #eggs = eggs[eggs['mean_intensity'].between(100, 220)]\n",
        "  # filter by size\n",
        "  eggs = eggs[eggs['area'].between(2500, 4000)]\n",
        "\n",
        "  # filter by position\n",
        "  eggs = eggs[eggs['position']<(radius-30)]\n",
        "  #eggs = eggs[eggs['position']<(radius)]\n",
        "  # change the labels\n",
        "  eggs['label'] = range(0,len(eggs))\n",
        "  return(labels, eggs)\n",
        "\n",
        "\n",
        "# make output images\n",
        "def generateOutput(invImg, eggList, cx, cy, radius):\n",
        "  eggBoxes = np.copy(invImg)\n",
        "  eggNumbers = np.copy(invImg)\n",
        "  for index,row in eggList.iterrows():\n",
        "    start_point = (int(row['bbox-1']), int(row['bbox-0']))\n",
        "    end_point = (int(row['bbox-3']), int(row['bbox-2']))\n",
        "    cv2.rectangle(eggBoxes, start_point, end_point, color=(255,255,255), thickness=6)\n",
        "    eggID = int(row['label'])+1\n",
        "    #area = int(row['area'])\n",
        "    #eggID = int(row['mean_intensity'])\n",
        "    cv2.putText(eggNumbers, f'{eggID}', (int(row['centroid-1'])+2, int(row['centroid-0'])+1), fontFace = cv2.FONT_HERSHEY_SIMPLEX, fontScale = 2, color = (255, 255, 255), thickness=6)\n",
        "    #cv2.putText(eggNumbers, f'{area}', (int(row['centroid-1'])+2, int(row['centroid-0'])+1), fontFace = cv2.FONT_HERSHEY_SIMPLEX, fontScale = 2, color = (255, 255, 255), thickness=6)\n",
        "\n",
        "\n",
        "  numberOfEggs = int(len(eggList))\n",
        "  cv2.putText(eggBoxes, f'Egg count: {numberOfEggs}', (2500,250), fontFace = cv2.FONT_HERSHEY_SIMPLEX, fontScale = 5, color = (255, 255, 255), thickness=8)\n",
        "  cv2.putText(eggNumbers, f'Egg count: {numberOfEggs}', (2500,250), fontFace = cv2.FONT_HERSHEY_SIMPLEX, fontScale = 5, color = (255, 255, 255), thickness=8)\n",
        "  # add cropped well circle\n",
        "  cv2.circle(eggBoxes, (cx,cy), radius, (255,255,255), 6)\n",
        "  cv2.circle(eggNumbers, (cx,cy), radius, (255,255,255), 6)\n",
        "  return(eggBoxes, eggNumbers)\n",
        "\n",
        "\n",
        "\n",
        "\n",
        "\n"
      ]
    },
    {
      "cell_type": "markdown",
      "metadata": {
        "id": "S6PLn-Ll4ADb"
      },
      "source": [
        "# Image processing\n",
        "\n",
        "\n",
        "\n",
        "*   Preprocess\n",
        "*   Crop well\n",
        "*   Segment objects\n",
        "*   Filter egg objects\n",
        "*   Output data\n",
        "\n",
        "\n",
        "\n"
      ]
    },
    {
      "cell_type": "code",
      "execution_count": null,
      "metadata": {
        "colab": {
          "base_uri": "https://localhost:8080/",
          "height": 472
        },
        "id": "xPqAu_NWsNUS",
        "outputId": "82b17246-d426-4405-fc6f-db3adc21ab46"
      },
      "outputs": [
        {
          "output_type": "stream",
          "name": "stdout",
          "text": [
            "Loading network weights from 'weights_best.h5'.\n",
            "Loading thresholds from 'thresholds.json'.\n",
            "Using default values: prob_thresh=0.705662, nms_thresh=0.3.\n",
            "\n",
            "Reading file well_1_2024-02-20_120735_.jpg\n",
            "Preprocessing done!\n"
          ]
        },
        {
          "output_type": "error",
          "ename": "KeyboardInterrupt",
          "evalue": "",
          "traceback": [
            "\u001b[0;31m---------------------------------------------------------------------------\u001b[0m",
            "\u001b[0;31mKeyboardInterrupt\u001b[0m                         Traceback (most recent call last)",
            "\u001b[0;32m<ipython-input-8-128df994ac29>\u001b[0m in \u001b[0;36m<cell line: 9>\u001b[0;34m()\u001b[0m\n\u001b[1;32m     22\u001b[0m   \u001b[0;31m# detect well for the first image\u001b[0m\u001b[0;34m\u001b[0m\u001b[0;34m\u001b[0m\u001b[0m\n\u001b[1;32m     23\u001b[0m   \u001b[0;32mif\u001b[0m \u001b[0;32mnot\u001b[0m \u001b[0mwell\u001b[0m\u001b[0;34m:\u001b[0m\u001b[0;34m\u001b[0m\u001b[0;34m\u001b[0m\u001b[0m\n\u001b[0;32m---> 24\u001b[0;31m     \u001b[0mwellMask\u001b[0m\u001b[0;34m,\u001b[0m \u001b[0mcx\u001b[0m\u001b[0;34m,\u001b[0m \u001b[0mcy\u001b[0m\u001b[0;34m,\u001b[0m \u001b[0mradius\u001b[0m \u001b[0;34m=\u001b[0m \u001b[0mmake_well_mask\u001b[0m\u001b[0;34m(\u001b[0m\u001b[0mfilename\u001b[0m\u001b[0;34m,\u001b[0m \u001b[0mestimatedWellDiameter\u001b[0m\u001b[0;34m/\u001b[0m\u001b[0;36m2\u001b[0m\u001b[0;34m)\u001b[0m\u001b[0;34m\u001b[0m\u001b[0;34m\u001b[0m\u001b[0m\n\u001b[0m\u001b[1;32m     25\u001b[0m    \u001b[0;31m#croppedImage = cv2.bitwise_and(invertedImage,invertedImage,mask = wellMask)\u001b[0m\u001b[0;34m\u001b[0m\u001b[0;34m\u001b[0m\u001b[0m\n\u001b[1;32m     26\u001b[0m     \u001b[0mprint\u001b[0m\u001b[0;34m(\u001b[0m\u001b[0;34m\"Well detection done!\"\u001b[0m\u001b[0;34m)\u001b[0m\u001b[0;34m\u001b[0m\u001b[0;34m\u001b[0m\u001b[0m\n",
            "\u001b[0;32m<ipython-input-4-65a5914f94bf>\u001b[0m in \u001b[0;36mmake_well_mask\u001b[0;34m(filename, estRadius)\u001b[0m\n\u001b[1;32m     25\u001b[0m   \u001b[0;31m# detect radii\u001b[0m\u001b[0;34m\u001b[0m\u001b[0;34m\u001b[0m\u001b[0m\n\u001b[1;32m     26\u001b[0m   \u001b[0mhough_radii\u001b[0m \u001b[0;34m=\u001b[0m \u001b[0mnp\u001b[0m\u001b[0;34m.\u001b[0m\u001b[0marange\u001b[0m\u001b[0;34m(\u001b[0m\u001b[0mestRadius\u001b[0m\u001b[0;34m-\u001b[0m\u001b[0;36m40\u001b[0m\u001b[0;34m,\u001b[0m \u001b[0mestRadius\u001b[0m\u001b[0;34m+\u001b[0m\u001b[0;36m40\u001b[0m\u001b[0;34m,\u001b[0m\u001b[0;36m20\u001b[0m\u001b[0;34m)\u001b[0m\u001b[0;34m\u001b[0m\u001b[0;34m\u001b[0m\u001b[0m\n\u001b[0;32m---> 27\u001b[0;31m   \u001b[0mhough_res\u001b[0m \u001b[0;34m=\u001b[0m \u001b[0mhough_circle\u001b[0m\u001b[0;34m(\u001b[0m\u001b[0medges\u001b[0m\u001b[0;34m,\u001b[0m \u001b[0mhough_radii\u001b[0m\u001b[0;34m)\u001b[0m\u001b[0;34m\u001b[0m\u001b[0;34m\u001b[0m\u001b[0m\n\u001b[0m\u001b[1;32m     28\u001b[0m \u001b[0;34m\u001b[0m\u001b[0m\n\u001b[1;32m     29\u001b[0m   \u001b[0;31m# select the most prominent circle\u001b[0m\u001b[0;34m\u001b[0m\u001b[0;34m\u001b[0m\u001b[0m\n",
            "\u001b[0;32m/usr/local/lib/python3.10/dist-packages/skimage/transform/hough_transform.py\u001b[0m in \u001b[0;36mhough_circle\u001b[0;34m(image, radius, normalize, full_output)\u001b[0m\n\u001b[1;32m    109\u001b[0m     \"\"\"\n\u001b[1;32m    110\u001b[0m     \u001b[0mradius\u001b[0m \u001b[0;34m=\u001b[0m \u001b[0mnp\u001b[0m\u001b[0;34m.\u001b[0m\u001b[0matleast_1d\u001b[0m\u001b[0;34m(\u001b[0m\u001b[0mnp\u001b[0m\u001b[0;34m.\u001b[0m\u001b[0masarray\u001b[0m\u001b[0;34m(\u001b[0m\u001b[0mradius\u001b[0m\u001b[0;34m)\u001b[0m\u001b[0;34m)\u001b[0m\u001b[0;34m\u001b[0m\u001b[0;34m\u001b[0m\u001b[0m\n\u001b[0;32m--> 111\u001b[0;31m     return _hough_circle(image, radius.astype(np.intp),\n\u001b[0m\u001b[1;32m    112\u001b[0m                          normalize=normalize, full_output=full_output)\n\u001b[1;32m    113\u001b[0m \u001b[0;34m\u001b[0m\u001b[0m\n",
            "\u001b[0;32m/usr/local/lib/python3.10/dist-packages/skimage/transform/_hough_transform.pyx\u001b[0m in \u001b[0;36mskimage.transform._hough_transform._hough_circle\u001b[0;34m()\u001b[0m\n",
            "\u001b[0;32m/usr/local/lib/python3.10/dist-packages/skimage/draw/draw.py\u001b[0m in \u001b[0;36mcircle_perimeter\u001b[0;34m(r, c, radius, method, shape)\u001b[0m\n\u001b[1;32m    482\u001b[0m \u001b[0;34m\u001b[0m\u001b[0m\n\u001b[1;32m    483\u001b[0m \u001b[0;34m\u001b[0m\u001b[0m\n\u001b[0;32m--> 484\u001b[0;31m \u001b[0;32mdef\u001b[0m \u001b[0mcircle_perimeter\u001b[0m\u001b[0;34m(\u001b[0m\u001b[0mr\u001b[0m\u001b[0;34m,\u001b[0m \u001b[0mc\u001b[0m\u001b[0;34m,\u001b[0m \u001b[0mradius\u001b[0m\u001b[0;34m,\u001b[0m \u001b[0mmethod\u001b[0m\u001b[0;34m=\u001b[0m\u001b[0;34m'bresenham'\u001b[0m\u001b[0;34m,\u001b[0m \u001b[0mshape\u001b[0m\u001b[0;34m=\u001b[0m\u001b[0;32mNone\u001b[0m\u001b[0;34m)\u001b[0m\u001b[0;34m:\u001b[0m\u001b[0;34m\u001b[0m\u001b[0;34m\u001b[0m\u001b[0m\n\u001b[0m\u001b[1;32m    485\u001b[0m     \"\"\"Generate circle perimeter coordinates.\n\u001b[1;32m    486\u001b[0m \u001b[0;34m\u001b[0m\u001b[0m\n",
            "\u001b[0;31mKeyboardInterrupt\u001b[0m: "
          ]
        }
      ],
      "source": [
        "\n",
        "#load model\n",
        "# use trained fly model\n",
        "model  = StarDist2D(None, name = 'flyModel2', basedir=modelPath)\n",
        "\n",
        "eggCounts = pd.DataFrame(columns=['Filename','EggCount'])\n",
        "\n",
        "well = False\n",
        "\n",
        "for filename in filenames:\n",
        "  basename = f'{Path(filename).stem}.jpg'\n",
        "  rawImage = io.imread(filename)\n",
        "  print(f'\\nReading file {basename}')\n",
        "  # preprocess\n",
        "  invertedImage = preprocess_image(filename)\n",
        "  print(\"Preprocessing done!\")\n",
        "\n",
        "  # if image is empty, move to next image\n",
        "  if empty_image(invertedImage):\n",
        "    print(\"Image is empty. Skipping this image.\")\n",
        "    continue\n",
        "\n",
        "  # detect well for the first image\n",
        "  if not well:\n",
        "    wellMask, cx, cy, radius = make_well_mask(filename, estimatedWellDiameter/2)\n",
        "   #croppedImage = cv2.bitwise_and(invertedImage,invertedImage,mask = wellMask)\n",
        "    print(\"Well detection done!\")\n",
        "\n",
        "    radius = int(estimatedWellDiameter/2)\n",
        "    well = True\n",
        "\n",
        "  # segment objects and filter eggs by size\n",
        "  labels, eggs = run_segmentation(invertedImage, probThreshold=0.7, cx=cx, cy=cy, radius=radius)\n",
        "  print(\"Segmentation done!\")\n",
        "\n",
        "  # output data\n",
        "  eggBoxes, eggNumbers = generateOutput(invertedImage, eggs, cx=cx, cy=cy, radius=radius)\n",
        "  tmpDf = pd.DataFrame([{'Filename':basename, 'EggCount': len(eggs)}])\n",
        "  eggCounts = pd.concat([eggCounts, tmpDf])\n",
        "  print(f'Counted {len(eggs)} eggs')\n",
        "\n",
        "  # save files\n",
        "  Boxedfilename = f'{outPath}eggs_boxed_{basename}'\n",
        "  Numfilename = f'{outPath}eggs_numbered_{basename}'\n",
        "  Croppedfilename = f'{outPath}well_cropped_{basename}'\n",
        "  InvertedFilename = f'{outPath}well_inverted_{basename}'\n",
        "\n",
        "  boxedImg, numberedImg = generateOutput(invertedImage, eggs, cx=cx, cy=cy, radius=radius)\n",
        "  renderedImage = render_label(labels, img=invertedImage)\n",
        "\n",
        "  cv2.imwrite(Boxedfilename, boxedImg)\n",
        "  cv2.imwrite(Numfilename, numberedImg)\n",
        "  cv2.imwrite(InvertedFilename, invertedImage)\n",
        "\n",
        "eggCounts.to_excel(f'{outPath}egg_counts_{ExperimentName}.xlsx')\n",
        "\n"
      ]
    }
  ],
  "metadata": {
    "accelerator": "GPU",
    "colab": {
      "collapsed_sections": [
        "kDn_lVxg3Z2G"
      ],
      "machine_shape": "hm",
      "provenance": [],
      "include_colab_link": true
    },
    "kernelspec": {
      "display_name": "Python 3",
      "name": "python3"
    }
  },
  "nbformat": 4,
  "nbformat_minor": 0
}